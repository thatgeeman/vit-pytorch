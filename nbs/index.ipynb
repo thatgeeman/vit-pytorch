{
 "cells": [
  {
   "cell_type": "code",
   "execution_count": null,
   "metadata": {},
   "outputs": [],
   "source": [
    "#| hide\n",
    "from vit_pytorch.core import *"
   ]
  },
  {
   "attachments": {},
   "cell_type": "markdown",
   "metadata": {},
   "source": [
    "# vit-pytorch\n",
    "\n",
    "> (work in progres) PyTorch implementation of ViT based on the ICLR2021 paper by Dosovitskiy et. al."
   ]
  },
  {
   "attachments": {},
   "cell_type": "markdown",
   "metadata": {},
   "source": [
    "## TODOs\n",
    "\n",
    "- [x] Add patch embeddings\n",
    "- [x] Add transformer encoder layer\n",
    "- [x] Add transformer encoder (multiple layers)\n",
    "- [ ] Why repeat class token?\n",
    "- [ ] Attention dropout\n",
    "- [ ] Embedding dropout\n",
    "- [ ] MLP dropout (in encoder)\n",
    "- [x] Add classification head\n",
    "- [x] Complete ViT-Base\n",
    "- [ ] Make named layers to make torchvision compatible\n",
    "- [ ] Add training scripts\n"
   ]
  },
  {
   "cell_type": "markdown",
   "metadata": {},
   "source": [
    "## Install"
   ]
  },
  {
   "cell_type": "markdown",
   "metadata": {},
   "source": [
    "```sh\n",
    "pip install vit_pytorch\n",
    "```"
   ]
  },
  {
   "attachments": {},
   "cell_type": "markdown",
   "metadata": {},
   "source": [
    "## How to use\n",
    "Load a `config.yml` file and pass to `ViT` module to modify architecture parameters."
   ]
  },
  {
   "cell_type": "code",
   "execution_count": null,
   "metadata": {},
   "outputs": [],
   "source": []
  }
 ],
 "metadata": {
  "kernelspec": {
   "display_name": "vit",
   "language": "python",
   "name": "vit"
  }
 },
 "nbformat": 4,
 "nbformat_minor": 4
}
